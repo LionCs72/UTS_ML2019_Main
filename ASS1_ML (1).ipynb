{
  "nbformat": 4,
  "nbformat_minor": 0,
  "metadata": {
    "colab": {
      "name": "ASS1_ML.ipynb",
      "version": "0.3.2",
      "provenance": [],
      "collapsed_sections": []
    },
    "kernelspec": {
      "name": "python3",
      "display_name": "Python 3"
    }
  },
  "cells": [
    {
      "cell_type": "markdown",
      "metadata": {
        "id": "befPigW1u3Rh",
        "colab_type": "text"
      },
      "source": [
        "## Topic : The Bayesian Belief Networks"
      ]
    },
    {
      "cell_type": "markdown",
      "metadata": {
        "id": "gSm0RY4ZnhDe",
        "colab_type": "text"
      },
      "source": [
        "**Name**   : Zhipeng Liu  \n",
        "**StudID** : 12764268"
      ]
    },
    {
      "cell_type": "markdown",
      "metadata": {
        "id": "Aph1ZzYZu55L",
        "colab_type": "text"
      },
      "source": [
        "## Introduction"
      ]
    },
    {
      "cell_type": "markdown",
      "metadata": {
        "id": "hktZG0_V1WCQ",
        "colab_type": "text"
      },
      "source": [
        "The paper I selected is published by Gregory F. Cooper in 1990 which discussed Bayesian belief networks. In the following parts, I will show my understanding about this paper from the following five parts(Cooper 1990).\n"
      ]
    },
    {
      "cell_type": "markdown",
      "metadata": {
        "id": "Nkr8668u0tIe",
        "colab_type": "text"
      },
      "source": [
        "## Content"
      ]
    },
    {
      "cell_type": "markdown",
      "metadata": {
        "id": "xt7V_xpo3VF9",
        "colab_type": "text"
      },
      "source": [
        "This paper, from my understanding, is trying to tell the audience why using Bayesian belief network to conduct probabilistic inference is a NP-hard problem. And what other algorithms could be used to extract knowledge from Bayesian network, especially the large multiply connected networks.   \n",
        "\n",
        "To understand the problem here,the reader need has some knowledge about concepts like NP-hard problem in computational complexity, conditional probability and 3SAT. The auther also gave some explaination about some of concepts to help reader to better understand the paper. In the second part of the paper, Cooper briefly discussed the structure of the belief network. He said a belief network structure is consisted by three conponents which are truth-setting, clasuse-satisfaction-testing and overall-satisfaction-testing. And the clause-satisfaction-testing component brings another concept which is one of the Boolean satisfiability problem called 3SAT. Cooper introduced this concept on section 4 and explained how components influence each others.  \n",
        "\n",
        "The main problem the paper try to solve is to prove that a NPC problem like 3SAT could be reduced to a NP-hard problem which is a transformation process called PIBNET.\n",
        "\n",
        "To be honest, I don't know the difference between the PIBNET and PIBNETD. From the paper,it is said the former is a computational version of the latter.From defination of NPC, if a problem falls in  both NP and NP-hard, it is NPC."
      ]
    },
    {
      "cell_type": "markdown",
      "metadata": {
        "id": "6fg2BRA8u89u",
        "colab_type": "text"
      },
      "source": [
        "## Innovation"
      ]
    },
    {
      "cell_type": "markdown",
      "metadata": {
        "id": "MHBuy7IPfmCV",
        "colab_type": "text"
      },
      "source": [
        "The paper firstly pointed out the possibility to find a general, efficient probabilistic inference algorithm is small, which proved conducting probabilitic inference by Bayesian belief network is a NP-hard problem.   \n",
        "The author's work about complexity of probabilitic inference motivates some of the following researchers to focus on the approximation algorithms(Dagum & Luby 1993). He also created a method which contains three components to interpret Bayesian belief network."
      ]
    },
    {
      "cell_type": "markdown",
      "metadata": {
        "id": "mBM23YW9u-8S",
        "colab_type": "text"
      },
      "source": [
        "## Technical quality"
      ]
    },
    {
      "cell_type": "markdown",
      "metadata": {
        "id": "guulMVEZs4GK",
        "colab_type": "text"
      },
      "source": [
        "After reading the paper, my view about technical quality of this paper is following: \n",
        "1. When author tried to explain the structure of the Bayesian belief network， he used network graph, derived formula and language to introduce this idea, which is easy for reader to understand.\n",
        "2. For me, concepts of PIBNET and PIBNETD is a little bit confused.\n",
        "3. Some words might need futher explainations such like word 'reduced'(Page 397, Line 1).\n",
        "4. The paper mentioned classes of belief networks many times. It will be better if author could add more information about category of thoes different networks.\n",
        "5. Comparision between single connected network and multiply connected networks.\n",
        "6. Comparision between multiply connected networks containing uninstantiated variables and multiply connected networks containing uninstantiated variables."
      ]
    },
    {
      "cell_type": "markdown",
      "metadata": {
        "id": "UvglP8AavBOr",
        "colab_type": "text"
      },
      "source": [
        "## Application and X-factor"
      ]
    },
    {
      "cell_type": "markdown",
      "metadata": {
        "id": "nGFYlpiEWAyE",
        "colab_type": "text"
      },
      "source": [
        "In the paper,the proposed solution is designed to solve the network involved many uninstantiated variables.One application domain mentioned by author is medicine. Author used the uninstantiated variables to represent intermediate pathophysiological states in in medical belief networks.  \n",
        "\n",
        "I think if we bring the work of this paper in class, it could spark a good discussion. The Bayesian network is a good representation of the reality. We can use BN to show the relationship between two entities, seeing are they independent to each other or not. If there is a dependency between them, how they're going to influence each other."
      ]
    },
    {
      "cell_type": "markdown",
      "metadata": {
        "id": "GhtJBxPKvDSZ",
        "colab_type": "text"
      },
      "source": [
        "\n",
        "## Presentation"
      ]
    },
    {
      "cell_type": "markdown",
      "metadata": {
        "id": "sJbUegmyd1ml",
        "colab_type": "text"
      },
      "source": [
        "I think the presentation of this paper is good as long as you already got the background knowledge about NPC, NP-hard and BN. The main challenge for me to understand the content is that I couldn't effectively concatenate those concepts into a whole knowledge map since i didn't spend enough time on reading.\n",
        "\n",
        "As for the structure, from the abstract part,the auther clearly introduced research background, challenge and potential solutions. In the following parts, in order to let readers better understand his main idea, he went through some key concepts like belief network, probabilistic inference and 3SAT.In order to prove that the PIBNET is NP-hard, Cooper used a lot of derived formula to explain how beyasian network works.In the end, after proving his idea, author pointed out real world challenge of conducting probabilic inference of Bayesian network, followed by several solutions.  \n",
        "\n",
        "The paper is published on ARTIFICIAL INTELLIGENCE which means majority of target audience already have a solid knowledge about computational complexity. I think that's why Cooper didn't spend too much length to explain basic concept like NP or NPC."
      ]
    },
    {
      "cell_type": "markdown",
      "metadata": {
        "id": "4n8E2NjenCbx",
        "colab_type": "text"
      },
      "source": [
        "## Github Link\n"
      ]
    },
    {
      "cell_type": "markdown",
      "metadata": {
        "id": "NrIVZndVnF9u",
        "colab_type": "text"
      },
      "source": [
        "[Link](https://github.com/LionCs72/UTS_ML2019_Main/blob/master/ASS1_ML.ipynb)"
      ]
    },
    {
      "cell_type": "markdown",
      "metadata": {
        "id": "jaZExeSfvFvk",
        "colab_type": "text"
      },
      "source": [
        "## References"
      ]
    },
    {
      "cell_type": "markdown",
      "metadata": {
        "id": "Q9LyvcFfvH6K",
        "colab_type": "text"
      },
      "source": [
        "Cooper, F.G. 1990, ‘The Computational Complexity of\n",
        "Probabilistic Inference Using Bayesian\n",
        "Belief Networks’, *Artificial Intelligence*, vol. 42, pp. 393-405.\n",
        "\n",
        "Dagum, P. & Luby, M. 1993, ‘Approximating probabilistic\n",
        "inference in Bayesian belief\n",
        "networks is NP-hard ’,\n",
        "*Artificial Intelligence*, vol. 60, pp. 141-153."
      ]
    }
  ]
}